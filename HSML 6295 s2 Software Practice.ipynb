{
    "cells": [
        {
            "cell_type": "markdown",
            "metadata": {},
            "source": [
                "### HSML 6295 Session 2 (Regression)\n",
                "\n",
                "#### I. Load the Data Set \"Wealth and Health\"\n",
                "\n",
                "Load the data set \"HSML 6295 s2 Wealth and Health.csv\" by dragging and dropping it into the canvas.\n"
            ]
        },
        {
            "cell_type": "code",
            "execution_count": null,
            "metadata": {},
            "outputs": [],
            "source": [
                "d = read.csv(file = \"HSML 6295 s2 Wealth and Health.csv\", header=TRUE, sep=\",\")\n",
                "names(d)\n",
                "le = d[,-1]\n",
                "rownames(le) = d[,1]\n",
                "colnames(le)[colnames(le) == 'Life.Expectancy.at.Birth..Years.'] = 'Life.Expectancy'\n",
                "colnames(le)[colnames(le) == 'Health.Spending.per.Capita...000.US..'] = 'Health.Spending'\n",
                "colnames(le)[colnames(le) == 'GDP.per.Capita...000.US..'] = 'GDP'\n",
                "colnames(le)[colnames(le) == 'Countries.A.I'] = 'AI'\n",
                "le$GDPT = 1000*le$GDP\n",
                "# head(le)\n",
                "attach(le)\n",
                "le\n"
            ]
        },
        {
            "cell_type": "markdown",
            "metadata": {},
            "source": [
                "#### II. Measures of Dispersion\n",
                "\n",
                "The *coefficient of variation* (CV) is a measure of relative variability. It is the ratio of the standard deviation to the mean.\n",
                "\n",
                "1. Go to the `Summary Statistics` tab and compute the coefficient of variation for `GDP per capita` and `Life Expectancy`.\n"
            ]
        },
        {
            "cell_type": "code",
            "execution_count": null,
            "metadata": {},
            "outputs": [],
            "source": [
                "\n",
                "\n"
            ]
        },
        {
            "cell_type": "markdown",
            "metadata": {},
            "source": [
                "The *range rule of thumb* says that the range is approximately four times the standard deviation. \n",
                "\n",
                "2. What is the range of `Life Expectancy` divided by its standard deviation? What is the range of `GDP per capita` divided by its standard deviation? Which ratio is larger?\n"
            ]
        },
        {
            "cell_type": "code",
            "execution_count": null,
            "metadata": {},
            "outputs": [],
            "source": [
                "\n",
                "\n"
            ]
        },
        {
            "cell_type": "markdown",
            "metadata": {},
            "source": [
                "#### III. Outliers\n",
                "\n",
                "*Outliers* are data points that \"break away\" from the majority of the data points in the scatter. One way to spot outliers is to measure how many standard deviations a data point is away from the mean.\n",
                "\n",
                "3. Which countries can you find whose `Life Expectancy` is at least 2 standard deviations away from the mean? Which countries can you find whose `GDP per capita` is at least 2 standard deviations away from the mean?\n",
                "\n",
                "By construction the *median* is a measure of central tendency that is more robust to outliers than the *mean.*\n",
                "\n",
                "4. Remove the country whose `GDP per capita` is at least 2 standard deviations from the mean. You can remove a data point from the sample by right-clicking on it. Do the mean and median values increase or decrease? Does the mean change more or less than the median when you remove outlier countries from the sample?\n"
            ]
        },
        {
            "cell_type": "code",
            "execution_count": null,
            "metadata": {},
            "outputs": [],
            "source": [
                "\n",
                "\n"
            ]
        },
        {
            "cell_type": "markdown",
            "metadata": {},
            "source": [
                "#### IV. Correlation Coefficient\n",
                "\n",
                "The `Correlation` tab shows you the *matrix of correlation coefficients* between all variables in your model. A correlation between two variables is always a number between -1 and 1. The closer the absolute value of the correlation is to 1, the closer is the linear relationship between the two variables. A positive (negative) correlation means that an increase in the value of one variable is typically matched by an increase (a decrease) of the value of the other variable. \n",
                "\n",
                "In the graph, positively correlated data display an upward trend: they run from the lower left to the upper right. Negatively correlated data display a downward trend: they run from the upper left to the lower right. Data that are perfectly correlated lie on a straight line.\n",
                "\n",
                "5. In the \"Wealth and Health\" data set, what is the correlation between `Life Expectancy` and `GDP per capita`? Is it closer to 1 in absolute value or 0?\n"
            ]
        },
        {
            "cell_type": "code",
            "execution_count": null,
            "metadata": {},
            "outputs": [],
            "source": [
                "\n",
                "\n"
            ]
        },
        {
            "cell_type": "markdown",
            "metadata": {},
            "source": [
                "\n",
                "6. How does the correlation between `Life Expectancy` and `GDP per capita` change when you delete the data point representing Luxembourg?\n"
            ]
        },
        {
            "cell_type": "code",
            "execution_count": null,
            "metadata": {},
            "outputs": [],
            "source": [
                "\n",
                "\n"
            ]
        },
        {
            "cell_type": "markdown",
            "metadata": {},
            "source": [
                "Undo the deletion of the data point representing `Luxembourg`.\n",
                "\n",
                "#### V. Intercept and Slope\n",
                "\n",
                "Now go to the `Equation` tab. If `Show Linear Fit` is checked in the `Graph Options`, the figure shows a solid red line. Broadly, this line is chosen to be as close as possible to all the data points in the sample. Specifically, this line minimizes the average squared difference between the observed response (represented by a data point) and the predicted (or \"fitted\") response, which lies on the red line.\n",
                "\n",
                "A line is always completely defined by two parameters: \n",
                "\n",
                "* the value of the response at which the fitted line crosses (\"intercepts\") the vertical axis (i.e. where the value of the predictor is 0). This value is commonly called *intercept* (or *constant term*).\n",
                "* the increase in the response for each one-unit increase in the predictor, commonly called the *slope*.\n",
                "\n",
                "\n",
                "\n",
                "7. What are the values of the intercept and slope in the simple linear regression of `Life Expectancy` on `GDP per capita`?\n"
            ]
        },
        {
            "cell_type": "code",
            "execution_count": null,
            "metadata": {},
            "outputs": [],
            "source": [
                "\n",
                "\n"
            ]
        },
        {
            "cell_type": "markdown",
            "metadata": {},
            "source": [
                "8. Interpret the value of the intercept. If the simple linear regression model was true, under what circumstances would we expect to observe a country whose life expectancy at birth matched that of the intercept? Given the shape of the scatter of data points, do you think this is a realistic assumption?\n",
                "\n",
                "9. Now consider the United States whose `Life Expectancy` was 78.7 and whose `GDP per capita` was \\$49,782. Given the simple linear regression of `Life Expectancy` on `GDP per capita` that you just estimated, by how many years would you expect `Life Expectancy` in the United States to change if its `GDP per capita` increased by \\$5,000?\n"
            ]
        },
        {
            "cell_type": "code",
            "execution_count": null,
            "metadata": {},
            "outputs": [],
            "source": [
                "\n",
                "\n"
            ]
        },
        {
            "cell_type": "markdown",
            "metadata": {},
            "source": [
                "\n",
                "10. Perform the same thought experiment for Mexico, the country with the lowest `Life Expectancy` at 74.2 years and the lowest `GDP per capita` at \\$17,125 in this sample. Given the simple linear regression of `Life Expectancy` on `GDP per capita` that you just estimated, by how many years would you expect `Life Expectancy` in Mexico to change if its `GDP per capita` increased by \\$5,000? Would you say the simple linear regression underpredicts or overpredicts the likely gains in `Life Expectancy` if Mexico's health spending?\n"
            ]
        },
        {
            "cell_type": "code",
            "execution_count": null,
            "metadata": {},
            "outputs": [],
            "source": [
                "\n",
                "\n"
            ]
        },
        {
            "cell_type": "markdown",
            "metadata": {},
            "source": [
                "\n",
                "11. Now delete the data point representing `Luxembourg`. What are the new estimates of the intercept and slope parameters? How do they differ from the estimates you obtained for the full sample?\n"
            ]
        },
        {
            "cell_type": "code",
            "execution_count": null,
            "metadata": {},
            "outputs": [],
            "source": [
                "\n",
                "\n"
            ]
        },
        {
            "cell_type": "markdown",
            "metadata": {},
            "source": [
                "Undo the deletion of the data point representing `Luxembourg`.\n",
                "\n",
                "#### VI. Prediction\n",
                "\n",
                "12. What is the predicted value of `Life Expectancy` at the mean value of `GDP per capita`, \n"
            ]
        },
        {
            "cell_type": "code",
            "execution_count": null,
            "metadata": {},
            "outputs": [],
            "source": [
                "round(mean(GDPT),0)\n",
                "\n"
            ]
        },
        {
            "cell_type": "markdown",
            "metadata": {},
            "source": [
                "? \n",
                "How does the predicted value compare to the mean value of `Life Expectancy` in the sample?\n"
            ]
        },
        {
            "cell_type": "code",
            "execution_count": null,
            "metadata": {},
            "outputs": [],
            "source": [
                "\n",
                "\n"
            ]
        },
        {
            "cell_type": "markdown",
            "metadata": {},
            "source": [
                "13. Now consider Argentina whose variable values in 2011 were:\n",
                " \n",
                "\n",
                "Variable | Value\n",
                "--- | ---\n",
                "`Life Expectancy at Birth` | 75.7 years\n",
                "`Health spending per Capita` | \\$1,227\n",
                "`GDP per Capita` | \\$19,629\n",
                "\n",
                "\n",
                "Given the simple linear regression of `Life Expectancy` on `GDP per capita`, what is the predicted value of `Life Expectancy` for Argentina? What is the (absolute value of the) prediction error?\n"
            ]
        },
        {
            "cell_type": "code",
            "execution_count": null,
            "metadata": {},
            "outputs": [],
            "source": [
                "\n",
                "\n"
            ]
        },
        {
            "cell_type": "markdown",
            "metadata": {},
            "source": [
                "    \n",
                "#### VII. R-Squared\n",
                "\n",
                "The R-squared statistic is the proportion of *total sum of squares* that is accounted for by the *explained sum of squares*, i.e. the sum of squared differences between the predicted values of the response and their mean:\n",
                "$$R^2 = \\frac{\\Sigma(\\hat{y}_i - \\bar{y})^2}{\\Sigma(y_i - \\bar{y})^2} = \\frac{\\mathrm{Var}[\\hat{y}]}{\\mathrm{Var}[y]}$$\n",
                "where $\\bar{y} = \\bar{\\hat{y}}$, i.e. the mean of the observed values of the response is the same as the mean of the predicted values of the response, whenever we include an intercept in the model (see Knowledge Check 12 above).\n",
                "\n",
                "The $R^2$ statistic is often used to gauge a model’s “goodness of fit”: it measures how well the fitted line captures the scatter of data points.\n",
                "\n",
                "14. What is the correlation coefficient between `Health Spending per capita` and `GDP per capita`? What is its square?\n"
            ]
        },
        {
            "cell_type": "code",
            "execution_count": null,
            "metadata": {},
            "outputs": [],
            "source": [
                "\n",
                "\n"
            ]
        },
        {
            "cell_type": "markdown",
            "metadata": {},
            "source": [
                "\n",
                "15. Regress `Health Spending per capita` on `GDP per capita`. What is the $R^2$? How does the $R^2$ compare to the squared correlation coefficient between `Health Spending per capita` and `GDP per capita`?\n"
            ]
        },
        {
            "cell_type": "code",
            "execution_count": null,
            "metadata": {},
            "outputs": [],
            "source": [
                "\n",
                "\n"
            ]
        },
        {
            "cell_type": "markdown",
            "metadata": {},
            "source": [
                "16. Now save the data set as \"Health and Wealth FITTED.csv\" to your computer. This data set contains two additional variables: \n",
                "\n",
                "    * `Prediction`: The predicted values of `Health Spending`\n",
                "    * `Residual`: The residuals of the regression of `Health Spending` on `GDP per capita`\n",
                "  \n",
                "Load this data set by dragging and dropping it into the canvas. What is the variance of `Prediction`, i.e. the predicted values of `Health Spending`? What is the variance of the observed values of `Health Spending`? What is their ratio?\n"
            ]
        },
        {
            "cell_type": "code",
            "execution_count": null,
            "metadata": {},
            "outputs": [],
            "source": [
                "\n",
                "\n"
            ]
        },
        {
            "cell_type": "markdown",
            "metadata": {},
            "source": [
                "\n",
                "17. What is the correlation between the observed and predicted values of `Health Spending`? What is their square?\n"
            ]
        },
        {
            "cell_type": "code",
            "execution_count": null,
            "metadata": {},
            "outputs": [],
            "source": [
                "\n",
                "\n"
            ]
        },
        {
            "cell_type": "markdown",
            "metadata": {},
            "source": [
                "\n",
                "18. Regress the *predicted* values of `Health Spending`, i.e. the variable `Prediction`, on `GDP per capita`. Note how all the fitted values lie on the regression line. What is the $R^2$?\n"
            ]
        },
        {
            "cell_type": "code",
            "execution_count": null,
            "metadata": {},
            "outputs": [],
            "source": [
                "\n",
                "\n"
            ]
        },
        {
            "cell_type": "markdown",
            "metadata": {},
            "source": [
                "#### VIII. Quadratic and Cubic Fits\n",
                "\n",
                "Now drag and drop the original data set \"Wealth and Health.csv\" into the canvas. \n",
                "In the `Load Data` screen add the quadratic and cubic transformations of `GDP per capita`.\n",
                "\n",
                "19. Regress `Life Expectancy` on `GDP per capita`. This is called a *linear fit*. What is the value of the $R^2$ statistic? \n"
            ]
        },
        {
            "cell_type": "code",
            "execution_count": null,
            "metadata": {},
            "outputs": [],
            "source": [
                "\n",
                "\n"
            ]
        },
        {
            "cell_type": "markdown",
            "metadata": {},
            "source": [
                "\n",
                "20. Regress `Life Expectancy` on `GDP per capita` and (`GDP per capita`)$^2$. This is called a *quadratic fit*. What is the value of the $R^2$ statistic? How does it compare to the value of $R^2$ you found for the linear fit?\n"
            ]
        },
        {
            "cell_type": "code",
            "execution_count": null,
            "metadata": {},
            "outputs": [],
            "source": [
                "\n",
                "\n"
            ]
        },
        {
            "cell_type": "markdown",
            "metadata": {},
            "source": [
                "21. Now consider again Argentina whose variable values in 2011 were:\n",
                "\n",
                "\n",
                "Variable | Value\n",
                "--- | ---\n",
                "`Life Expectancy at Birth` | 75.7 years\n",
                "`Health spending per Capita` | \\$1,227\n",
                "`GDP per Capita` | \\$19,629\n",
                "\n",
                "\n",
                "Given the quadratic fit of `Life Expectancy` to `GDP per capita`, what is the predicted value of `Life Expectancy` for Argentina? Hint: The square of 19.629 is \n"
            ]
        },
        {
            "cell_type": "code",
            "execution_count": null,
            "metadata": {},
            "outputs": [],
            "source": [
                "round(19.629^2,2)\n",
                "\n"
            ]
        },
        {
            "cell_type": "markdown",
            "metadata": {},
            "source": [
                "\n",
                "What is the (absolute value of the) prediction error? How does it compare to the prediction error you found for the linear fit (Question 13)?\n"
            ]
        },
        {
            "cell_type": "code",
            "execution_count": null,
            "metadata": {},
            "outputs": [],
            "source": [
                "\n",
                "\n"
            ]
        },
        {
            "cell_type": "markdown",
            "metadata": {},
            "source": [
                "    \n",
                "22. Regress `Life Expectancy` on `GDP per capita`, (`GDP per capita`)$^2$, and (`GDP per capita`)$^3$. This is called a *cubic fit*. What is the value of the $R^2$ statistic? How does it compare to the value of $R^2$ you found for the quadratic fit?\n"
            ]
        },
        {
            "cell_type": "code",
            "execution_count": null,
            "metadata": {},
            "outputs": [],
            "source": [
                "\n",
                "\n"
            ]
        },
        {
            "cell_type": "markdown",
            "metadata": {},
            "source": [
                "\n",
                "23. Given the cubic fit of `Life Expectancy` to `GDP per capita`, what is the predicted value of `Life Expectancy` for Argentina? Hint: The cube of 19.629 is \n"
            ]
        },
        {
            "cell_type": "code",
            "execution_count": null,
            "metadata": {},
            "outputs": [],
            "source": [
                "round(19.629^3,1)\n",
                "\n"
            ]
        },
        {
            "cell_type": "markdown",
            "metadata": {},
            "source": [
                "\n",
                "What is the (absolute value of the) prediction error? How does it compare to the prediction error you found for the linear and quadratic fits?\n"
            ]
        },
        {
            "cell_type": "code",
            "execution_count": null,
            "metadata": {},
            "outputs": [],
            "source": [
                "\n",
                "\n"
            ]
        },
        {
            "cell_type": "markdown",
            "metadata": {},
            "source": "\n"
        }
    ],
    "metadata": {
        "anaconda-cloud": "",
        "kernelspec": {
            "display_name": "R",
            "langauge": "R",
            "name": "ir"
        },
        "language_info": {
            "codemirror_mode": "r",
            "file_extension": ".r",
            "mimetype": "text/x-r-source",
            "name": "R",
            "pygments_lexer": "r",
            "version": "3.4.1"
        }
    },
    "nbformat": 4,
    "nbformat_minor": 1
}

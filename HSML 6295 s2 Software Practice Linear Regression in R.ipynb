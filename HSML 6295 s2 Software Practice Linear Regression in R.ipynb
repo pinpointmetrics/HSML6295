{
    "cells": [
        {
            "cell_type": "markdown",
            "metadata": {},
            "source": [
                "### HSML 6295 s2 Software Practice -- Linear Regression in R\n",
                "\n",
                "#### I. Load the \"Wealth and Health\" Data Set\n"
            ]
        },
        {
            "cell_type": "code",
            "execution_count": null,
            "metadata": {},
            "outputs": [],
            "source": [
                "d = read.csv(file = \"HSML 6295 ds Wealth and Health.csv\", header=TRUE, sep=\",\")\n",
                "library(stargazer)\n",
                "rownames(d) = d[,1]\n",
                "d = d[,-1]\n",
                "colnames(d)[colnames(d) == 'Life.Expectancy.at.Birth..Years.'] = 'Life.Expectancy'\n",
                "colnames(d)[colnames(d) == 'Health.Spending.per.Capita...000.US..'] = 'Health.Spending'\n",
                "colnames(d)[colnames(d) == 'GDP.per.Capita...000.US..'] = 'GDP'\n",
                "colnames(d)[colnames(d) == 'Countries.A.I'] = 'AI'\n",
                "attach(d)\n",
                "names(d)\n"
            ]
        },
        {
            "cell_type": "markdown",
            "metadata": {},
            "source": [
                "#### II. Plot Life Expectancy Against GDP per Capita\n",
                "\n"
            ]
        },
        {
            "cell_type": "code",
            "execution_count": null,
            "metadata": {},
            "outputs": [],
            "source": [
                "plot(GDP, Life.Expectancy,\n",
                "     ylab = \"Life Expectancy at Birth (Years)\", xlab = \"GDP per Capita ($`000)\")\n",
                "with(d, text(Life.Expectancy ~ GDP, labels = row.names(d), pos = 1, cex = 0.6))\n"
            ]
        },
        {
            "cell_type": "markdown",
            "metadata": {},
            "source": [
                "#### III. Linear Regression\n",
                "\n",
                "Estimate a `Life.Expectancy` as a **linear** function of `GDP` per capita and show the regression results.\n"
            ]
        },
        {
            "cell_type": "code",
            "execution_count": null,
            "metadata": {},
            "outputs": [],
            "source": [
                "m = lm(Life.Expectancy ~ GDP, data = d)\n",
                "\n",
                "stargazer(m,\n",
                "          type=\"text\", \n",
                "          dep.var.labels=c(\"Life Expectancy at Birth (Years)\"), \n",
                "          covariate.labels=c(\"Constant\", \"GDP per Capita ('000 US$)\"),\n",
                "          report = \"vcsp\",\n",
                "          intercept.bottom = FALSE,\n",
                "          df = FALSE)\n"
            ]
        },
        {
            "cell_type": "markdown",
            "metadata": {},
            "source": [
                "Estimate a life expectancy as a **quadratic** function (a polynomial of degree 2) of GDP per capita.\n",
                "\n"
            ]
        },
        {
            "cell_type": "code",
            "execution_count": null,
            "metadata": {},
            "outputs": [],
            "source": [
                "m = lm(Life.Expectancy ~ poly(GDP,2), data = d)\n",
                "\n",
                "stargazer(m,\n",
                "          type=\"text\", \n",
                "          dep.var.labels=c(\"Life Expectancy at Birth (Years)\"), \n",
                "          covariate.labels=c(\"Constant\", \"GDP per Capita\", \"GDP per Capita Squared\"),\n",
                "          report = \"vcsp\",\n",
                "          intercept.bottom = FALSE,\n",
                "          df = FALSE)\n"
            ]
        },
        {
            "cell_type": "markdown",
            "metadata": {},
            "source": [
                "Estimate a life expectancy as a **cubic** function (a polynomial of degree 3) of GDP per capita.\n",
                "\n"
            ]
        },
        {
            "cell_type": "code",
            "execution_count": null,
            "metadata": {},
            "outputs": [],
            "source": [
                "m = lm(Life.Expectancy ~ poly(GDP,3), data = d)\n",
                "\n",
                "stargazer(m,\n",
                "          type=\"text\", \n",
                "          dep.var.labels=c(\"Life Expectancy at Birth (Years)\"), \n",
                "          covariate.labels=c(\"Constant\", \"GDP per Capita\", \"GDP per Capita Squared\", \"GDP per Capita Cubed\"),\n",
                "          report = \"vcsp\",\n",
                "          intercept.bottom = FALSE,\n",
                "          df = FALSE)\n"
            ]
        },
        {
            "cell_type": "markdown",
            "metadata": {},
            "source": [
                "Now add a linear term of the predictor `Health.Spending` to the equation.\n",
                "\n"
            ]
        },
        {
            "cell_type": "code",
            "execution_count": null,
            "metadata": {},
            "outputs": [],
            "source": [
                "m = lm(Life.Expectancy ~ poly(GDP,3) + Health.Spending, data = d)\n",
                "\n",
                "stargazer(m,\n",
                "          type=\"text\", \n",
                "          dep.var.labels=c(\"Life Expectancy at Birth (Years)\"), \n",
                "          covariate.labels=c(\"Constant\", \"GDP per Capita\", \"GDP per Capita Squared\", \"GDP per Capita Cubed\", \"Health Spending\"),\n",
                "          report = \"vcsp\",\n",
                "          intercept.bottom = FALSE,\n",
                "          df = FALSE)\n"
            ]
        },
        {
            "cell_type": "markdown",
            "metadata": {},
            "source": [
                "Now add a quadratic term of the predictor `Health.Spending` to the equation.\n",
                "\n"
            ]
        },
        {
            "cell_type": "code",
            "execution_count": null,
            "metadata": {},
            "outputs": [],
            "source": [
                "m = lm(Life.Expectancy ~ poly(GDP,3) + poly(Health.Spending,2), data = d)\n",
                "\n",
                "stargazer(m,\n",
                "          type=\"text\", \n",
                "          dep.var.labels=c(\"Life Expectancy at Birth (Years)\"), \n",
                "          covariate.labels=c(\"Constant\", \"GDP per Capita\", \"GDP per Capita Squared\", \"GDP per Capita Cubed\", \"Health Spending\", \"Health Spending Squared\"),\n",
                "          report = \"vcsp\",\n",
                "          intercept.bottom = FALSE,\n",
                "          df = FALSE)\n"
            ]
        },
        {
            "cell_type": "markdown",
            "metadata": {},
            "source": [
                "Now add a cubic term of the predictor `Health.Spending` to the equation.\n",
                "\n"
            ]
        },
        {
            "cell_type": "code",
            "execution_count": null,
            "metadata": {},
            "outputs": [],
            "source": [
                "m = lm(Life.Expectancy ~ poly(GDP,3) + poly(Health.Spending,3), data = d)\n",
                "\n",
                "stargazer(m,\n",
                "          type=\"text\", \n",
                "          dep.var.labels=c(\"Life Expectancy at Birth (Years)\"), \n",
                "          covariate.labels=c(\"Constant\", \"GDP per Capita\", \"GDP per Capita Squared\", \"GDP per Capita Cubed\", \"Health Spending\", \"Health Spending Squared\", \"Health Spending Cubed\"),\n",
                "          report = \"vcsp\",\n",
                "          intercept.bottom = FALSE,\n",
                "          df = FALSE)\n"
            ]
        },
        {
            "cell_type": "markdown",
            "metadata": {},
            "source": [
                "Add the predictor `ABC.Rank` to the equation.\n",
                "\n"
            ]
        },
        {
            "cell_type": "code",
            "execution_count": null,
            "metadata": {},
            "outputs": [],
            "source": [
                "m = lm(Life.Expectancy ~ poly(GDP,3) + poly(Health.Spending,3) + ABC.Rank, data = d)\n",
                "\n",
                "stargazer(m,\n",
                "          type=\"text\", \n",
                "          dep.var.labels=c(\"Life Expectancy at Birth (Years)\"), \n",
                "          covariate.labels=c(\"Constant\", \"GDP per Capita\", \"GDP per Capita Squared\", \"GDP per Capita Cubed\", \"Health Spending\", \"Health Spending Squared\", \"Health Spending Cubed\", \"ABC.Rank\"),\n",
                "          report = \"vcsp\",\n",
                "          intercept.bottom = FALSE,\n",
                "          df = FALSE)\n"
            ]
        },
        {
            "cell_type": "markdown",
            "metadata": {},
            "source": [
                "Finally, add a quadratic term of the predictor `ABC.Rank` to the equation.\n",
                "\n"
            ]
        },
        {
            "cell_type": "code",
            "execution_count": null,
            "metadata": {},
            "outputs": [],
            "source": [
                "m = lm(Life.Expectancy ~ poly(GDP,3) + poly(Health.Spending,3) + poly(ABC.Rank,2), data = d)\n",
                "\n",
                "stargazer(m,\n",
                "          type=\"text\", \n",
                "          dep.var.labels=c(\"Life Expectancy at Birth (Years)\"), \n",
                "          covariate.labels=c(\"Constant\", \"GDP per Capita\", \"GDP per Capita Squared\", \"GDP per Capita Cubed\", \"Health Spending\", \"Health Spending Squared\", \"Health Spending Cubed\", \"ABC.Rank\", \"ABC.Rank Squared\"),\n",
                "          report = \"vcsp\",\n",
                "          intercept.bottom = FALSE,\n",
                "          df = FALSE)\n"
            ]
        },
        {
            "cell_type": "markdown",
            "metadata": {},
            "source": [
                "\n",
                "How do the values of the R-squared and the adjusted R-squared statistics change as we add more terms to the equation?\n"
            ]
        }
    ],
    "metadata": {
        "anaconda-cloud": "",
        "kernelspec": {
            "display_name": "R",
            "langauge": "R",
            "name": "ir"
        },
        "language_info": {
            "codemirror_mode": "r",
            "file_extension": ".r",
            "mimetype": "text/x-r-source",
            "name": "R",
            "pygments_lexer": "r",
            "version": "3.4.1"
        }
    },
    "nbformat": 4,
    "nbformat_minor": 1
}

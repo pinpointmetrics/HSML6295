{
 "cells": [
  {
   "cell_type": "markdown",
   "metadata": {},
   "source": [
    "#### I. Creating a Data Set\n",
    "\n",
    "Create a sample data set by \n",
    "\n",
    "1. reading in a list of ages for 12 individuals"
   ]
  },
  {
   "cell_type": "code",
   "execution_count": 1,
   "metadata": {},
   "outputs": [],
   "source": [
    "mydata = data.frame(Age = c(21, 32, 37, 43, 47, 51, 55, 61, 64, 66, 68, 72))"
   ]
  },
  {
   "cell_type": "markdown",
   "metadata": {},
   "source": [
    "2. and adding their names."
   ]
  },
  {
   "cell_type": "code",
   "execution_count": 2,
   "metadata": {},
   "outputs": [],
   "source": [
    "attr(mydata, \"row.names\") = c(\" 1 Amy\",\" 2 Ben\",\" 3 Carl\",\" 4 Dan\",\" 5 Ed\", \n",
    "                              \" 6 Fran\", \" 7 George\", \" 8 Helen\", \" 9 Iris\", \n",
    "                              \"10 Jen\", \"11 Kim\", \"12 Luke\")"
   ]
  },
  {
   "cell_type": "markdown",
   "metadata": {},
   "source": [
    "Show the data set that we just created:"
   ]
  },
  {
   "cell_type": "code",
   "execution_count": 3,
   "metadata": {},
   "outputs": [
    {
     "data": {
      "text/html": [
       "<table>\n",
       "<caption>A data.frame: 12 × 1</caption>\n",
       "<thead>\n",
       "\t<tr><th></th><th scope=col>Age</th></tr>\n",
       "\t<tr><th></th><th scope=col>&lt;dbl&gt;</th></tr>\n",
       "</thead>\n",
       "<tbody>\n",
       "\t<tr><th scope=row> 1 Amy</th><td>21</td></tr>\n",
       "\t<tr><th scope=row> 2 Ben</th><td>32</td></tr>\n",
       "\t<tr><th scope=row> 3 Carl</th><td>37</td></tr>\n",
       "\t<tr><th scope=row> 4 Dan</th><td>43</td></tr>\n",
       "\t<tr><th scope=row> 5 Ed</th><td>47</td></tr>\n",
       "\t<tr><th scope=row> 6 Fran</th><td>51</td></tr>\n",
       "\t<tr><th scope=row> 7 George</th><td>55</td></tr>\n",
       "\t<tr><th scope=row> 8 Helen</th><td>61</td></tr>\n",
       "\t<tr><th scope=row> 9 Iris</th><td>64</td></tr>\n",
       "\t<tr><th scope=row>10 Jen</th><td>66</td></tr>\n",
       "\t<tr><th scope=row>11 Kim</th><td>68</td></tr>\n",
       "\t<tr><th scope=row>12 Luke</th><td>72</td></tr>\n",
       "</tbody>\n",
       "</table>\n"
      ],
      "text/latex": [
       "A data.frame: 12 × 1\n",
       "\\begin{tabular}{r|l}\n",
       "  & Age\\\\\n",
       "  & <dbl>\\\\\n",
       "\\hline\n",
       "\t 1 Amy & 21\\\\\n",
       "\t 2 Ben & 32\\\\\n",
       "\t 3 Carl & 37\\\\\n",
       "\t 4 Dan & 43\\\\\n",
       "\t 5 Ed & 47\\\\\n",
       "\t 6 Fran & 51\\\\\n",
       "\t 7 George & 55\\\\\n",
       "\t 8 Helen & 61\\\\\n",
       "\t 9 Iris & 64\\\\\n",
       "\t10 Jen & 66\\\\\n",
       "\t11 Kim & 68\\\\\n",
       "\t12 Luke & 72\\\\\n",
       "\\end{tabular}\n"
      ],
      "text/markdown": [
       "\n",
       "A data.frame: 12 × 1\n",
       "\n",
       "| <!--/--> | Age &lt;dbl&gt; |\n",
       "|---|---|\n",
       "|  1 Amy | 21 |\n",
       "|  2 Ben | 32 |\n",
       "|  3 Carl | 37 |\n",
       "|  4 Dan | 43 |\n",
       "|  5 Ed | 47 |\n",
       "|  6 Fran | 51 |\n",
       "|  7 George | 55 |\n",
       "|  8 Helen | 61 |\n",
       "|  9 Iris | 64 |\n",
       "| 10 Jen | 66 |\n",
       "| 11 Kim | 68 |\n",
       "| 12 Luke | 72 |\n",
       "\n"
      ],
      "text/plain": [
       "          Age\n",
       " 1 Amy    21 \n",
       " 2 Ben    32 \n",
       " 3 Carl   37 \n",
       " 4 Dan    43 \n",
       " 5 Ed     47 \n",
       " 6 Fran   51 \n",
       " 7 George 55 \n",
       " 8 Helen  61 \n",
       " 9 Iris   64 \n",
       "10 Jen    66 \n",
       "11 Kim    68 \n",
       "12 Luke   72 "
      ]
     },
     "metadata": {},
     "output_type": "display_data"
    }
   ],
   "source": [
    "mydata"
   ]
  }
 ],
 "metadata": {
  "kernelspec": {
   "display_name": "R",
   "language": "R",
   "name": "ir"
  },
  "language_info": {
   "codemirror_mode": "r",
   "file_extension": ".r",
   "mimetype": "text/x-r-source",
   "name": "R",
   "pygments_lexer": "r",
   "version": "3.6.3"
  }
 },
 "nbformat": 4,
 "nbformat_minor": 4
}
